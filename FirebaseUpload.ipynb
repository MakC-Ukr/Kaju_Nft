{
 "cells": [
  {
   "cell_type": "code",
   "execution_count": 2,
   "id": "b75e6d99",
   "metadata": {},
   "outputs": [],
   "source": [
    "import json"
   ]
  },
  {
   "cell_type": "code",
   "execution_count": 3,
   "id": "5196a650",
   "metadata": {},
   "outputs": [],
   "source": [
    "# Run the cell below. 10k JSON files will be generated\n",
    "# These JSON files must be uploaded to Pinata and the link must be added to the Solidity contract \n",
    "# Inside the solidity contract to get the metadata for a NFT with ID X, we will access <pinata_link>/X.json"
   ]
  },
  {
   "cell_type": "code",
   "execution_count": 7,
   "id": "c566f689",
   "metadata": {},
   "outputs": [],
   "source": [
    "for i in range(0,1000):\n",
    "    \n",
    "    data={\"name\":'Dog' + str(i),\n",
    "      \"description\" : \"Collection of cute photos of a man's best friend - doggo xD.\",\n",
    "      \"image\":\"https://gateway.pinata.cloud/ipfs/QmUFbD7x4L74xDa1jDKaKtnEcXKSCDdqsMS5RRbp8Z7KMG/\"+str(i)+\".jpg\"\n",
    "    }\n",
    "    \n",
    "    \n",
    "    with open('./metadata/'+ str(i) + '.json', 'w') as fp:\n",
    "        json.dump(data, fp)"
   ]
  },
  {
   "cell_type": "code",
   "execution_count": 5,
   "id": "1a5f276c",
   "metadata": {},
   "outputs": [],
   "source": [
    "# below code shall not be used again. \n",
    "# below is code to rename images to 1-999.jpg"
   ]
  },
  {
   "cell_type": "code",
   "execution_count": 44,
   "id": "1b2f0371",
   "metadata": {},
   "outputs": [],
   "source": [
    "import os\n",
    "folder = \"images\"\n",
    "counter = 0;\n",
    "for count, filename in enumerate(os.listdir(folder)):\n",
    "    dst = f\"{counter}.jpg\"\n",
    "    src =f\"{folder}/{filename}\"  # foldername/filename, if .py file is outside folder\n",
    "    dst =f\"{folder}/{dst}\"\n",
    "    os.rename(src, dst)\n",
    "    counter+=1"
   ]
  },
  {
   "cell_type": "code",
   "execution_count": 45,
   "id": "9aaf91de",
   "metadata": {},
   "outputs": [],
   "source": [
    "# image: https://drive.google.com/file/d/18mjt6a1qiNLZWCe9a80WseXIe-vxu5H0/view?usp=sharing"
   ]
  },
  {
   "cell_type": "code",
   "execution_count": 70,
   "id": "149960d6",
   "metadata": {},
   "outputs": [
    {
     "name": "stdout",
     "output_type": "stream",
     "text": [
      "1000 (or more) images renamed from 0-999.jpg\n"
     ]
    }
   ],
   "source": [
    "folder = \"images copy\"\n",
    "ls1 = []\n",
    "for count, filename in enumerate(os.listdir(folder)):\n",
    "    ls1.append(filename)\n",
    "if(len(ls1) < 1000):\n",
    "    print(\"Something's wrong. Should be 1000 images\")\n",
    "else:\n",
    "    print(\"1000 (or more) images renamed from 0-999.jpg\")"
   ]
  }
 ],
 "metadata": {
  "kernelspec": {
   "display_name": "Python 3 (ipykernel)",
   "language": "python",
   "name": "python3"
  },
  "language_info": {
   "codemirror_mode": {
    "name": "ipython",
    "version": 3
   },
   "file_extension": ".py",
   "mimetype": "text/x-python",
   "name": "python",
   "nbconvert_exporter": "python",
   "pygments_lexer": "ipython3",
   "version": "3.9.7"
  }
 },
 "nbformat": 4,
 "nbformat_minor": 5
}
